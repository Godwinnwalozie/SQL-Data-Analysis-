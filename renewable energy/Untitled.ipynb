{
 "cells": [
  {
   "cell_type": "code",
   "execution_count": 2,
   "id": "310891cc-c132-41ce-bd90-fd3b70a5df75",
   "metadata": {},
   "outputs": [
    {
     "name": "stdout",
     "output_type": "stream",
     "text": [
      "Collecting Scrapy\n",
      "  Downloading Scrapy-2.6.1-py2.py3-none-any.whl (264 kB)\n",
      "Collecting itemloaders>=1.0.1\n",
      "  Downloading itemloaders-1.0.4-py3-none-any.whl (11 kB)\n",
      "Requirement already satisfied: pyOpenSSL>=16.2.0 in c:\\users\\godwi\\anaconda3\\lib\\site-packages (from Scrapy) (21.0.0)\n",
      "Collecting w3lib>=1.17.0\n",
      "  Downloading w3lib-1.22.0-py2.py3-none-any.whl (20 kB)\n",
      "Requirement already satisfied: setuptools in c:\\users\\godwi\\anaconda3\\lib\\site-packages (from Scrapy) (61.2.0)\n",
      "Collecting protego>=0.1.15\n",
      "  Downloading Protego-0.2.1-py2.py3-none-any.whl (8.2 kB)\n",
      "Collecting itemadapter>=0.1.0\n",
      "  Downloading itemadapter-0.6.0-py3-none-any.whl (10 kB)\n",
      "Collecting cssselect>=0.9.1\n",
      "  Downloading cssselect-1.1.0-py2.py3-none-any.whl (16 kB)\n",
      "Requirement already satisfied: lxml>=3.5.0 in c:\\users\\godwi\\anaconda3\\lib\\site-packages (from Scrapy) (4.6.3)\n",
      "Collecting PyDispatcher>=2.0.5\n",
      "  Downloading PyDispatcher-2.0.5.zip (47 kB)\n",
      "Collecting service-identity>=16.0.0\n",
      "  Downloading service_identity-21.1.0-py2.py3-none-any.whl (12 kB)\n",
      "Collecting Twisted>=17.9.0\n",
      "  Downloading Twisted-22.4.0-py3-none-any.whl (3.1 MB)\n",
      "Requirement already satisfied: zope.interface>=4.1.3 in c:\\users\\godwi\\anaconda3\\lib\\site-packages (from Scrapy) (5.3.0)\n",
      "Collecting tldextract\n",
      "  Downloading tldextract-3.3.0-py3-none-any.whl (93 kB)\n",
      "Collecting parsel>=1.5.0\n",
      "  Downloading parsel-1.6.0-py2.py3-none-any.whl (13 kB)\n",
      "Requirement already satisfied: cryptography>=2.0 in c:\\users\\godwi\\anaconda3\\lib\\site-packages (from Scrapy) (3.4.8)\n",
      "Collecting queuelib>=1.4.2\n",
      "  Downloading queuelib-1.6.2-py2.py3-none-any.whl (13 kB)\n",
      "Requirement already satisfied: cffi>=1.12 in c:\\users\\godwi\\anaconda3\\lib\\site-packages (from cryptography>=2.0->Scrapy) (1.15.0)\n",
      "Requirement already satisfied: pycparser in c:\\users\\godwi\\anaconda3\\lib\\site-packages (from cffi>=1.12->cryptography>=2.0->Scrapy) (2.21)\n",
      "Collecting jmespath>=0.9.5\n",
      "  Downloading jmespath-1.0.0-py3-none-any.whl (23 kB)\n",
      "Requirement already satisfied: six>=1.6.0 in c:\\users\\godwi\\anaconda3\\lib\\site-packages (from parsel>=1.5.0->Scrapy) (1.16.0)\n",
      "Requirement already satisfied: attrs>=19.1.0 in c:\\users\\godwi\\anaconda3\\lib\\site-packages (from service-identity>=16.0.0->Scrapy) (21.4.0)\n",
      "Collecting pyasn1-modules\n",
      "  Downloading pyasn1_modules-0.2.8-py2.py3-none-any.whl (155 kB)\n",
      "Collecting pyasn1\n",
      "  Downloading pyasn1-0.4.8-py2.py3-none-any.whl (77 kB)\n",
      "Collecting Automat>=0.8.0\n",
      "  Downloading Automat-20.2.0-py2.py3-none-any.whl (31 kB)\n",
      "Collecting incremental>=21.3.0\n",
      "  Downloading incremental-21.3.0-py2.py3-none-any.whl (15 kB)\n",
      "Collecting hyperlink>=17.1.1\n",
      "  Downloading hyperlink-21.0.0-py2.py3-none-any.whl (74 kB)\n",
      "Collecting twisted-iocpsupport<2,>=1.0.2\n",
      "  Downloading twisted_iocpsupport-1.0.2-cp38-cp38-win_amd64.whl (45 kB)\n",
      "Requirement already satisfied: typing-extensions>=3.6.5 in c:\\users\\godwi\\anaconda3\\lib\\site-packages (from Twisted>=17.9.0->Scrapy) (4.1.1)\n",
      "Collecting constantly>=15.1\n",
      "  Downloading constantly-15.1.0-py2.py3-none-any.whl (7.9 kB)\n",
      "Requirement already satisfied: idna>=2.5 in c:\\users\\godwi\\anaconda3\\lib\\site-packages (from hyperlink>=17.1.1->Twisted>=17.9.0->Scrapy) (2.10)\n",
      "Requirement already satisfied: filelock>=3.0.8 in c:\\users\\godwi\\anaconda3\\lib\\site-packages (from tldextract->Scrapy) (3.6.0)\n",
      "Requirement already satisfied: requests>=2.1.0 in c:\\users\\godwi\\anaconda3\\lib\\site-packages (from tldextract->Scrapy) (2.25.1)\n",
      "Collecting requests-file>=1.4\n",
      "  Downloading requests_file-1.5.1-py2.py3-none-any.whl (3.7 kB)\n",
      "Requirement already satisfied: urllib3<1.27,>=1.21.1 in c:\\users\\godwi\\anaconda3\\lib\\site-packages (from requests>=2.1.0->tldextract->Scrapy) (1.26.9)\n",
      "Requirement already satisfied: certifi>=2017.4.17 in c:\\users\\godwi\\anaconda3\\lib\\site-packages (from requests>=2.1.0->tldextract->Scrapy) (2022.5.18.1)\n",
      "Requirement already satisfied: chardet<5,>=3.0.2 in c:\\users\\godwi\\anaconda3\\lib\\site-packages (from requests>=2.1.0->tldextract->Scrapy) (4.0.0)\n",
      "Building wheels for collected packages: PyDispatcher\n",
      "  Building wheel for PyDispatcher (setup.py): started\n",
      "  Building wheel for PyDispatcher (setup.py): finished with status 'done'\n",
      "  Created wheel for PyDispatcher: filename=PyDispatcher-2.0.5-py3-none-any.whl size=12560 sha256=1dda28262652e9a178f15a81477b7f68d2181a3f205940d1f046efcddfacf3a2\n",
      "  Stored in directory: c:\\users\\godwi\\appdata\\local\\pip\\cache\\wheels\\3c\\31\\7f\\d7d7b5f0b9bad841ed856138ff0c5ee2bf2e04dbeb413097c8\n",
      "Successfully built PyDispatcher\n",
      "Installing collected packages: w3lib, pyasn1, cssselect, twisted-iocpsupport, requests-file, pyasn1-modules, parsel, jmespath, itemadapter, incremental, hyperlink, constantly, Automat, Twisted, tldextract, service-identity, queuelib, PyDispatcher, protego, itemloaders, Scrapy\n",
      "Successfully installed Automat-20.2.0 PyDispatcher-2.0.5 Scrapy-2.6.1 Twisted-22.4.0 constantly-15.1.0 cssselect-1.1.0 hyperlink-21.0.0 incremental-21.3.0 itemadapter-0.6.0 itemloaders-1.0.4 jmespath-1.0.0 parsel-1.6.0 protego-0.2.1 pyasn1-0.4.8 pyasn1-modules-0.2.8 queuelib-1.6.2 requests-file-1.5.1 service-identity-21.1.0 tldextract-3.3.0 twisted-iocpsupport-1.0.2 w3lib-1.22.0\n",
      "Note: you may need to restart the kernel to use updated packages.\n"
     ]
    }
   ],
   "source": [
    "pip install Scrapy"
   ]
  },
  {
   "cell_type": "code",
   "execution_count": 2,
   "id": "909c3311-e8f2-4e3e-b5e6-44da4d27514c",
   "metadata": {},
   "outputs": [],
   "source": [
    "import scrapy\n",
    "\n",
    "\n",
    "class QuotesSpider(scrapy.Spider):\n",
    "    name = 'quotes'\n",
    "    start_urls = [\n",
    "        'https://quotes.toscrape.com/tag/humor/',\n",
    "    ]\n",
    "\n",
    "    def parse(self, response):\n",
    "        for quote in response.css('div.quote'):\n",
    "            yield {\n",
    "                'author': quote.xpath('span/small/text()').get(),\n",
    "                'text': quote.css('span.text::text').get(),\n",
    "            }\n",
    "\n",
    "        next_page = response.css('li.next a::attr(\"href\")').get()\n",
    "        if next_page is not None:\n",
    "            yield response.follow(next_page, self.parse)"
   ]
  },
  {
   "cell_type": "code",
   "execution_count": 4,
   "id": "3b4144f7-2f6e-4abf-916c-1d8de1149aee",
   "metadata": {},
   "outputs": [
    {
     "ename": "SyntaxError",
     "evalue": "invalid syntax (<ipython-input-4-5ba8168c148b>, line 1)",
     "output_type": "error",
     "traceback": [
      "\u001b[1;36m  File \u001b[1;32m\"<ipython-input-4-5ba8168c148b>\"\u001b[1;36m, line \u001b[1;32m1\u001b[0m\n\u001b[1;33m    scrapy runspider quotes_spider.py -o quotes.jl\u001b[0m\n\u001b[1;37m           ^\u001b[0m\n\u001b[1;31mSyntaxError\u001b[0m\u001b[1;31m:\u001b[0m invalid syntax\n"
     ]
    }
   ],
   "source": [
    "scrapy runspider quotes_spider.py -o quotes.jl"
   ]
  },
  {
   "cell_type": "code",
   "execution_count": 9,
   "id": "8decfa1a-904b-4e52-a882-b35947527851",
   "metadata": {},
   "outputs": [
    {
     "name": "stdout",
     "output_type": "stream",
     "text": [
      "Collecting hachoir\n",
      "  Downloading hachoir-3.1.3-py3-none-any.whl (647 kB)\n",
      "Installing collected packages: hachoir\n",
      "Successfully installed hachoir-3.1.3\n",
      "Note: you may need to restart the kernel to use updated packages.\n"
     ]
    }
   ],
   "source": [
    "pip install -U hachoir"
   ]
  },
  {
   "cell_type": "code",
   "execution_count": 10,
   "id": "a9e569c3-4fb5-42dc-98df-2f13f1387edf",
   "metadata": {},
   "outputs": [
    {
     "name": "stdout",
     "output_type": "stream",
     "text": [
      "Collecting urwid\n",
      "  Downloading urwid-2.1.2.tar.gz (634 kB)\n",
      "Building wheels for collected packages: urwid\n",
      "  Building wheel for urwid (setup.py): started\n",
      "  Building wheel for urwid (setup.py): finished with status 'done'\n",
      "  Created wheel for urwid: filename=urwid-2.1.2-py3-none-any.whl size=235035 sha256=4e00cd86d65561b31a51baa3d409a209e6a000771d71666843f292e8ce550b31\n",
      "  Stored in directory: c:\\users\\godwi\\appdata\\local\\pip\\cache\\wheels\\28\\71\\e4\\38b5d81438105d0e3db5016cf2eea6fa796d89d96a04451d4d\n",
      "Successfully built urwid\n",
      "Installing collected packages: urwid\n",
      "Successfully installed urwid-2.1.2\n",
      "Note: you may need to restart the kernel to use updated packages.\n"
     ]
    }
   ],
   "source": [
    "pip install -U urwid"
   ]
  },
  {
   "cell_type": "code",
   "execution_count": null,
   "id": "80fc6c9a-525c-4034-a32f-75a0424afe9c",
   "metadata": {},
   "outputs": [],
   "source": [
    "pip install -U wxPython"
   ]
  },
  {
   "cell_type": "code",
   "execution_count": 5,
   "id": "39ac30f8-67c9-4214-8434-b8047c70a79d",
   "metadata": {},
   "outputs": [
    {
     "name": "stdout",
     "output_type": "stream",
     "text": [
      "Requirement already satisfied: pip in c:\\users\\godwi\\anaconda3\\lib\\site-packages (22.1.2)\n",
      "Note: you may need to restart the kernel to use updated packages.\n"
     ]
    }
   ],
   "source": [
    "pip install --upgrade pip"
   ]
  },
  {
   "cell_type": "code",
   "execution_count": 6,
   "id": "00f96eb9-ba83-412f-919d-1d47a0edb2f7",
   "metadata": {},
   "outputs": [
    {
     "name": "stdout",
     "output_type": "stream",
     "text": [
      "Note: you may need to restart the kernel to use updated packages.\n"
     ]
    },
    {
     "name": "stderr",
     "output_type": "stream",
     "text": [
      "ERROR: Could not find a version that satisfies the requirement kate (from versions: none)\n",
      "ERROR: No matching distribution found for kate\n"
     ]
    }
   ],
   "source": [
    "pip install kate"
   ]
  },
  {
   "cell_type": "code",
   "execution_count": null,
   "id": "fcf9963b-beec-4b38-9205-dac2c58a72a5",
   "metadata": {},
   "outputs": [],
   "source": []
  }
 ],
 "metadata": {
  "kernelspec": {
   "display_name": "Python 3",
   "language": "python",
   "name": "python3"
  },
  "language_info": {
   "codemirror_mode": {
    "name": "ipython",
    "version": 3
   },
   "file_extension": ".py",
   "mimetype": "text/x-python",
   "name": "python",
   "nbconvert_exporter": "python",
   "pygments_lexer": "ipython3",
   "version": "3.8.8"
  }
 },
 "nbformat": 4,
 "nbformat_minor": 5
}
